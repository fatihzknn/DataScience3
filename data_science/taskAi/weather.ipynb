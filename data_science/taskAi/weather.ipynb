{
 "cells": [
  {
   "cell_type": "code",
   "execution_count": 2,
   "metadata": {},
   "outputs": [
    {
     "data": {
      "text/html": [
       "<div>\n",
       "<style scoped>\n",
       "    .dataframe tbody tr th:only-of-type {\n",
       "        vertical-align: middle;\n",
       "    }\n",
       "\n",
       "    .dataframe tbody tr th {\n",
       "        vertical-align: top;\n",
       "    }\n",
       "\n",
       "    .dataframe thead th {\n",
       "        text-align: right;\n",
       "    }\n",
       "</style>\n",
       "<table border=\"1\" class=\"dataframe\">\n",
       "  <thead>\n",
       "    <tr style=\"text-align: right;\">\n",
       "      <th></th>\n",
       "      <th>Condition</th>\n",
       "      <th>Rain</th>\n",
       "      <th>MaxTemp</th>\n",
       "      <th>MinTemp</th>\n",
       "      <th>SunRise</th>\n",
       "      <th>SunSet</th>\n",
       "      <th>MoonRise</th>\n",
       "      <th>MoonSet</th>\n",
       "      <th>AvgWind</th>\n",
       "      <th>AvgHumidity</th>\n",
       "      <th>AvgPressure</th>\n",
       "    </tr>\n",
       "    <tr>\n",
       "      <th>DateTime</th>\n",
       "      <th></th>\n",
       "      <th></th>\n",
       "      <th></th>\n",
       "      <th></th>\n",
       "      <th></th>\n",
       "      <th></th>\n",
       "      <th></th>\n",
       "      <th></th>\n",
       "      <th></th>\n",
       "      <th></th>\n",
       "      <th></th>\n",
       "    </tr>\n",
       "  </thead>\n",
       "  <tbody>\n",
       "    <tr>\n",
       "      <th>22.07.2019</th>\n",
       "      <td>Partly cloudy</td>\n",
       "      <td>0.0</td>\n",
       "      <td>29</td>\n",
       "      <td>23</td>\n",
       "      <td>05:51:00</td>\n",
       "      <td>20:30:00</td>\n",
       "      <td>23:41:00</td>\n",
       "      <td>10:51:00</td>\n",
       "      <td>19</td>\n",
       "      <td>57</td>\n",
       "      <td>1017</td>\n",
       "    </tr>\n",
       "    <tr>\n",
       "      <th>21.07.2019</th>\n",
       "      <td>Sunny</td>\n",
       "      <td>0.0</td>\n",
       "      <td>28</td>\n",
       "      <td>23</td>\n",
       "      <td>05:50:00</td>\n",
       "      <td>20:31:00</td>\n",
       "      <td>23:16:00</td>\n",
       "      <td>9:53:00</td>\n",
       "      <td>20</td>\n",
       "      <td>59</td>\n",
       "      <td>1018</td>\n",
       "    </tr>\n",
       "    <tr>\n",
       "      <th>20.07.2019</th>\n",
       "      <td>Partly cloudy</td>\n",
       "      <td>0.0</td>\n",
       "      <td>28</td>\n",
       "      <td>22</td>\n",
       "      <td>05:50:00</td>\n",
       "      <td>20:32:00</td>\n",
       "      <td>22:49:00</td>\n",
       "      <td>8:55:00</td>\n",
       "      <td>24</td>\n",
       "      <td>62</td>\n",
       "      <td>1016</td>\n",
       "    </tr>\n",
       "    <tr>\n",
       "      <th>19.07.2019</th>\n",
       "      <td>Sunny</td>\n",
       "      <td>0.0</td>\n",
       "      <td>28</td>\n",
       "      <td>23</td>\n",
       "      <td>05:48:00</td>\n",
       "      <td>20:32:00</td>\n",
       "      <td>22:19:00</td>\n",
       "      <td>7:56:00</td>\n",
       "      <td>20</td>\n",
       "      <td>60</td>\n",
       "      <td>1014</td>\n",
       "    </tr>\n",
       "    <tr>\n",
       "      <th>18.07.2019</th>\n",
       "      <td>Partly cloudy</td>\n",
       "      <td>0.0</td>\n",
       "      <td>27</td>\n",
       "      <td>22</td>\n",
       "      <td>05:47:00</td>\n",
       "      <td>20:33:00</td>\n",
       "      <td>21:47:00</td>\n",
       "      <td>6:57:00</td>\n",
       "      <td>16</td>\n",
       "      <td>56</td>\n",
       "      <td>1010</td>\n",
       "    </tr>\n",
       "  </tbody>\n",
       "</table>\n",
       "</div>"
      ],
      "text/plain": [
       "                Condition  Rain  MaxTemp  MinTemp   SunRise    SunSet  \\\n",
       "DateTime                                                                \n",
       "22.07.2019  Partly cloudy   0.0       29       23  05:51:00  20:30:00   \n",
       "21.07.2019          Sunny   0.0       28       23  05:50:00  20:31:00   \n",
       "20.07.2019  Partly cloudy   0.0       28       22  05:50:00  20:32:00   \n",
       "19.07.2019          Sunny   0.0       28       23  05:48:00  20:32:00   \n",
       "18.07.2019  Partly cloudy   0.0       27       22  05:47:00  20:33:00   \n",
       "\n",
       "            MoonRise   MoonSet  AvgWind  AvgHumidity  AvgPressure  \n",
       "DateTime                                                           \n",
       "22.07.2019  23:41:00  10:51:00       19           57         1017  \n",
       "21.07.2019  23:16:00   9:53:00       20           59         1018  \n",
       "20.07.2019  22:49:00   8:55:00       24           62         1016  \n",
       "19.07.2019  22:19:00   7:56:00       20           60         1014  \n",
       "18.07.2019  21:47:00   6:57:00       16           56         1010  "
      ]
     },
     "execution_count": 2,
     "metadata": {},
     "output_type": "execute_result"
    }
   ],
   "source": [
    "import pandas as pd \n",
    "import numpy as np\n",
    "\n",
    "dataFrame  = pd.read_csv(\"Istanbul Weather Data.csv\",index_col = \"DateTime\")\n",
    "dataFrame.head()"
   ]
  },
  {
   "cell_type": "code",
   "execution_count": 3,
   "metadata": {},
   "outputs": [],
   "source": [
    "dataFrame[\"AvgTemp\"] = (dataFrame[\"MaxTemp\"] +dataFrame[\"MinTemp\"])/2 "
   ]
  },
  {
   "cell_type": "code",
   "execution_count": 4,
   "metadata": {},
   "outputs": [
    {
     "data": {
      "text/html": [
       "<div>\n",
       "<style scoped>\n",
       "    .dataframe tbody tr th:only-of-type {\n",
       "        vertical-align: middle;\n",
       "    }\n",
       "\n",
       "    .dataframe tbody tr th {\n",
       "        vertical-align: top;\n",
       "    }\n",
       "\n",
       "    .dataframe thead th {\n",
       "        text-align: right;\n",
       "    }\n",
       "</style>\n",
       "<table border=\"1\" class=\"dataframe\">\n",
       "  <thead>\n",
       "    <tr style=\"text-align: right;\">\n",
       "      <th></th>\n",
       "      <th>Condition</th>\n",
       "      <th>Rain</th>\n",
       "      <th>MaxTemp</th>\n",
       "      <th>MinTemp</th>\n",
       "      <th>SunRise</th>\n",
       "      <th>SunSet</th>\n",
       "      <th>MoonRise</th>\n",
       "      <th>MoonSet</th>\n",
       "      <th>AvgWind</th>\n",
       "      <th>AvgHumidity</th>\n",
       "      <th>AvgPressure</th>\n",
       "      <th>AvgTemp</th>\n",
       "    </tr>\n",
       "    <tr>\n",
       "      <th>DateTime</th>\n",
       "      <th></th>\n",
       "      <th></th>\n",
       "      <th></th>\n",
       "      <th></th>\n",
       "      <th></th>\n",
       "      <th></th>\n",
       "      <th></th>\n",
       "      <th></th>\n",
       "      <th></th>\n",
       "      <th></th>\n",
       "      <th></th>\n",
       "      <th></th>\n",
       "    </tr>\n",
       "  </thead>\n",
       "  <tbody>\n",
       "    <tr>\n",
       "      <th>22.07.2019</th>\n",
       "      <td>Partly cloudy</td>\n",
       "      <td>0.0</td>\n",
       "      <td>29</td>\n",
       "      <td>23</td>\n",
       "      <td>05:51:00</td>\n",
       "      <td>20:30:00</td>\n",
       "      <td>23:41:00</td>\n",
       "      <td>10:51:00</td>\n",
       "      <td>19</td>\n",
       "      <td>57</td>\n",
       "      <td>1017</td>\n",
       "      <td>26.0</td>\n",
       "    </tr>\n",
       "    <tr>\n",
       "      <th>21.07.2019</th>\n",
       "      <td>Sunny</td>\n",
       "      <td>0.0</td>\n",
       "      <td>28</td>\n",
       "      <td>23</td>\n",
       "      <td>05:50:00</td>\n",
       "      <td>20:31:00</td>\n",
       "      <td>23:16:00</td>\n",
       "      <td>9:53:00</td>\n",
       "      <td>20</td>\n",
       "      <td>59</td>\n",
       "      <td>1018</td>\n",
       "      <td>25.5</td>\n",
       "    </tr>\n",
       "    <tr>\n",
       "      <th>20.07.2019</th>\n",
       "      <td>Partly cloudy</td>\n",
       "      <td>0.0</td>\n",
       "      <td>28</td>\n",
       "      <td>22</td>\n",
       "      <td>05:50:00</td>\n",
       "      <td>20:32:00</td>\n",
       "      <td>22:49:00</td>\n",
       "      <td>8:55:00</td>\n",
       "      <td>24</td>\n",
       "      <td>62</td>\n",
       "      <td>1016</td>\n",
       "      <td>25.0</td>\n",
       "    </tr>\n",
       "    <tr>\n",
       "      <th>19.07.2019</th>\n",
       "      <td>Sunny</td>\n",
       "      <td>0.0</td>\n",
       "      <td>28</td>\n",
       "      <td>23</td>\n",
       "      <td>05:48:00</td>\n",
       "      <td>20:32:00</td>\n",
       "      <td>22:19:00</td>\n",
       "      <td>7:56:00</td>\n",
       "      <td>20</td>\n",
       "      <td>60</td>\n",
       "      <td>1014</td>\n",
       "      <td>25.5</td>\n",
       "    </tr>\n",
       "    <tr>\n",
       "      <th>18.07.2019</th>\n",
       "      <td>Partly cloudy</td>\n",
       "      <td>0.0</td>\n",
       "      <td>27</td>\n",
       "      <td>22</td>\n",
       "      <td>05:47:00</td>\n",
       "      <td>20:33:00</td>\n",
       "      <td>21:47:00</td>\n",
       "      <td>6:57:00</td>\n",
       "      <td>16</td>\n",
       "      <td>56</td>\n",
       "      <td>1010</td>\n",
       "      <td>24.5</td>\n",
       "    </tr>\n",
       "  </tbody>\n",
       "</table>\n",
       "</div>"
      ],
      "text/plain": [
       "                Condition  Rain  MaxTemp  MinTemp   SunRise    SunSet  \\\n",
       "DateTime                                                                \n",
       "22.07.2019  Partly cloudy   0.0       29       23  05:51:00  20:30:00   \n",
       "21.07.2019          Sunny   0.0       28       23  05:50:00  20:31:00   \n",
       "20.07.2019  Partly cloudy   0.0       28       22  05:50:00  20:32:00   \n",
       "19.07.2019          Sunny   0.0       28       23  05:48:00  20:32:00   \n",
       "18.07.2019  Partly cloudy   0.0       27       22  05:47:00  20:33:00   \n",
       "\n",
       "            MoonRise   MoonSet  AvgWind  AvgHumidity  AvgPressure  AvgTemp  \n",
       "DateTime                                                                    \n",
       "22.07.2019  23:41:00  10:51:00       19           57         1017     26.0  \n",
       "21.07.2019  23:16:00   9:53:00       20           59         1018     25.5  \n",
       "20.07.2019  22:49:00   8:55:00       24           62         1016     25.0  \n",
       "19.07.2019  22:19:00   7:56:00       20           60         1014     25.5  \n",
       "18.07.2019  21:47:00   6:57:00       16           56         1010     24.5  "
      ]
     },
     "execution_count": 4,
     "metadata": {},
     "output_type": "execute_result"
    }
   ],
   "source": [
    "dataFrame.head()"
   ]
  },
  {
   "cell_type": "code",
   "execution_count": 5,
   "metadata": {},
   "outputs": [
    {
     "data": {
      "text/plain": [
       "DateTime\n",
       "22.07.2019    26.0\n",
       "21.07.2019    25.5\n",
       "20.07.2019    25.0\n",
       "19.07.2019    25.5\n",
       "18.07.2019    24.5\n",
       "              ... \n",
       "05.01.2009     4.0\n",
       "04.01.2009     4.0\n",
       "03.01.2009     4.0\n",
       "02.01.2009     2.5\n",
       "01.01.2009     3.5\n",
       "Name: AvgTemp, Length: 3854, dtype: float64"
      ]
     },
     "execution_count": 5,
     "metadata": {},
     "output_type": "execute_result"
    }
   ],
   "source": [
    "dataFrame.AvgTemp"
   ]
  },
  {
   "cell_type": "code",
   "execution_count": 6,
   "metadata": {},
   "outputs": [
    {
     "data": {
      "text/html": [
       "<div>\n",
       "<style scoped>\n",
       "    .dataframe tbody tr th:only-of-type {\n",
       "        vertical-align: middle;\n",
       "    }\n",
       "\n",
       "    .dataframe tbody tr th {\n",
       "        vertical-align: top;\n",
       "    }\n",
       "\n",
       "    .dataframe thead th {\n",
       "        text-align: right;\n",
       "    }\n",
       "</style>\n",
       "<table border=\"1\" class=\"dataframe\">\n",
       "  <thead>\n",
       "    <tr style=\"text-align: right;\">\n",
       "      <th></th>\n",
       "      <th>Rain</th>\n",
       "      <th>MaxTemp</th>\n",
       "      <th>MinTemp</th>\n",
       "      <th>AvgWind</th>\n",
       "      <th>AvgHumidity</th>\n",
       "      <th>AvgPressure</th>\n",
       "      <th>AvgTemp</th>\n",
       "    </tr>\n",
       "  </thead>\n",
       "  <tbody>\n",
       "    <tr>\n",
       "      <th>count</th>\n",
       "      <td>3854.000000</td>\n",
       "      <td>3854.000000</td>\n",
       "      <td>3854.000000</td>\n",
       "      <td>3854.000000</td>\n",
       "      <td>3854.000000</td>\n",
       "      <td>3854.000000</td>\n",
       "      <td>3854.000000</td>\n",
       "    </tr>\n",
       "    <tr>\n",
       "      <th>mean</th>\n",
       "      <td>0.950677</td>\n",
       "      <td>17.968864</td>\n",
       "      <td>13.668915</td>\n",
       "      <td>16.963415</td>\n",
       "      <td>71.505708</td>\n",
       "      <td>1015.312922</td>\n",
       "      <td>15.818889</td>\n",
       "    </tr>\n",
       "    <tr>\n",
       "      <th>std</th>\n",
       "      <td>2.559252</td>\n",
       "      <td>7.574019</td>\n",
       "      <td>6.827327</td>\n",
       "      <td>7.976410</td>\n",
       "      <td>9.475492</td>\n",
       "      <td>6.300186</td>\n",
       "      <td>7.102318</td>\n",
       "    </tr>\n",
       "    <tr>\n",
       "      <th>min</th>\n",
       "      <td>0.000000</td>\n",
       "      <td>-3.000000</td>\n",
       "      <td>-5.000000</td>\n",
       "      <td>2.000000</td>\n",
       "      <td>40.000000</td>\n",
       "      <td>992.000000</td>\n",
       "      <td>-3.500000</td>\n",
       "    </tr>\n",
       "    <tr>\n",
       "      <th>25%</th>\n",
       "      <td>0.000000</td>\n",
       "      <td>12.000000</td>\n",
       "      <td>8.000000</td>\n",
       "      <td>11.000000</td>\n",
       "      <td>65.000000</td>\n",
       "      <td>1011.000000</td>\n",
       "      <td>10.000000</td>\n",
       "    </tr>\n",
       "    <tr>\n",
       "      <th>50%</th>\n",
       "      <td>0.020000</td>\n",
       "      <td>18.000000</td>\n",
       "      <td>13.000000</td>\n",
       "      <td>16.000000</td>\n",
       "      <td>72.000000</td>\n",
       "      <td>1015.000000</td>\n",
       "      <td>15.500000</td>\n",
       "    </tr>\n",
       "    <tr>\n",
       "      <th>75%</th>\n",
       "      <td>0.730000</td>\n",
       "      <td>25.000000</td>\n",
       "      <td>20.000000</td>\n",
       "      <td>22.000000</td>\n",
       "      <td>78.000000</td>\n",
       "      <td>1019.000000</td>\n",
       "      <td>22.500000</td>\n",
       "    </tr>\n",
       "    <tr>\n",
       "      <th>max</th>\n",
       "      <td>42.000000</td>\n",
       "      <td>37.000000</td>\n",
       "      <td>26.000000</td>\n",
       "      <td>56.000000</td>\n",
       "      <td>97.000000</td>\n",
       "      <td>1038.000000</td>\n",
       "      <td>30.000000</td>\n",
       "    </tr>\n",
       "  </tbody>\n",
       "</table>\n",
       "</div>"
      ],
      "text/plain": [
       "              Rain      MaxTemp      MinTemp      AvgWind  AvgHumidity  \\\n",
       "count  3854.000000  3854.000000  3854.000000  3854.000000  3854.000000   \n",
       "mean      0.950677    17.968864    13.668915    16.963415    71.505708   \n",
       "std       2.559252     7.574019     6.827327     7.976410     9.475492   \n",
       "min       0.000000    -3.000000    -5.000000     2.000000    40.000000   \n",
       "25%       0.000000    12.000000     8.000000    11.000000    65.000000   \n",
       "50%       0.020000    18.000000    13.000000    16.000000    72.000000   \n",
       "75%       0.730000    25.000000    20.000000    22.000000    78.000000   \n",
       "max      42.000000    37.000000    26.000000    56.000000    97.000000   \n",
       "\n",
       "       AvgPressure      AvgTemp  \n",
       "count  3854.000000  3854.000000  \n",
       "mean   1015.312922    15.818889  \n",
       "std       6.300186     7.102318  \n",
       "min     992.000000    -3.500000  \n",
       "25%    1011.000000    10.000000  \n",
       "50%    1015.000000    15.500000  \n",
       "75%    1019.000000    22.500000  \n",
       "max    1038.000000    30.000000  "
      ]
     },
     "execution_count": 6,
     "metadata": {},
     "output_type": "execute_result"
    }
   ],
   "source": [
    "dataFrame.describe()"
   ]
  },
  {
   "cell_type": "code",
   "execution_count": 7,
   "metadata": {},
   "outputs": [
    {
     "name": "stdout",
     "output_type": "stream",
     "text": [
      "<class 'pandas.core.frame.DataFrame'>\n",
      "Index: 3854 entries, 22.07.2019 to 01.01.2009\n",
      "Data columns (total 12 columns):\n",
      " #   Column       Non-Null Count  Dtype  \n",
      "---  ------       --------------  -----  \n",
      " 0   Condition    3854 non-null   object \n",
      " 1   Rain         3854 non-null   float64\n",
      " 2   MaxTemp      3854 non-null   int64  \n",
      " 3   MinTemp      3854 non-null   int64  \n",
      " 4   SunRise      3854 non-null   object \n",
      " 5   SunSet       3854 non-null   object \n",
      " 6   MoonRise     3724 non-null   object \n",
      " 7   MoonSet      3724 non-null   object \n",
      " 8   AvgWind      3854 non-null   int64  \n",
      " 9   AvgHumidity  3854 non-null   int64  \n",
      " 10  AvgPressure  3854 non-null   int64  \n",
      " 11  AvgTemp      3854 non-null   float64\n",
      "dtypes: float64(2), int64(5), object(5)\n",
      "memory usage: 551.4+ KB\n"
     ]
    }
   ],
   "source": [
    "dataFrame.info()"
   ]
  },
  {
   "cell_type": "code",
   "execution_count": 8,
   "metadata": {},
   "outputs": [
    {
     "data": {
      "text/plain": [
       "count    3854.000000\n",
       "mean       15.818889\n",
       "std         7.102318\n",
       "min        -3.500000\n",
       "25%        10.000000\n",
       "50%        15.500000\n",
       "75%        22.500000\n",
       "max        30.000000\n",
       "Name: AvgTemp, dtype: float64"
      ]
     },
     "execution_count": 8,
     "metadata": {},
     "output_type": "execute_result"
    }
   ],
   "source": [
    "dataFrame[\"AvgTemp\"].describe()"
   ]
  },
  {
   "cell_type": "code",
   "execution_count": 9,
   "metadata": {},
   "outputs": [],
   "source": [
    "import matplotlib.pyplot as plt\n",
    "import tensorflow as tf\n",
    "from tensorflow import keras"
   ]
  },
  {
   "cell_type": "code",
   "execution_count": 10,
   "metadata": {},
   "outputs": [
    {
     "data": {
      "text/plain": [
       "[<matplotlib.lines.Line2D at 0x279039aee20>]"
      ]
     },
     "execution_count": 10,
     "metadata": {},
     "output_type": "execute_result"
    },
    {
     "data": {
      "image/png": "[encoded data removed]",
      "text/plain": [
       "<Figure size 432x288 with 1 Axes>"
      ]
     },
     "metadata": {
      "needs_background": "light"
     },
     "output_type": "display_data"
    }
   ],
   "source": [
    "plt.plot(dataFrame[\"AvgTemp\"])"
   ]
  },
  {
   "cell_type": "code",
   "execution_count": 11,
   "metadata": {},
   "outputs": [
    {
     "data": {
      "text/plain": [
       "[<matplotlib.lines.Line2D at 0x27906f96940>]"
      ]
     },
     "execution_count": 11,
     "metadata": {},
     "output_type": "execute_result"
    },
    {
     "data": {
      "image/png": "[encoded data removed]",
      "text/plain": [
       "<Figure size 504x360 with 1 Axes>"
      ]
     },
     "metadata": {
      "needs_background": "light"
     },
     "output_type": "display_data"
    }
   ],
   "source": [
    "plt.figure(figsize=(7,5))\n",
    "plt.plot(dataFrame[\"AvgTemp\"])"
   ]
  },
  {
   "cell_type": "code",
   "execution_count": null,
   "metadata": {},
   "outputs": [],
   "source": []
  }
 ],
 "metadata": {
  "kernelspec": {
   "display_name": "Python 3",
   "language": "python",
   "name": "python3"
  },
  "language_info": {
   "codemirror_mode": {
    "name": "ipython",
    "version": 3
   },
   "file_extension": ".py",
   "mimetype": "text/x-python",
   "name": "python",
   "nbconvert_exporter": "python",
   "pygments_lexer": "ipython3",
   "version": "3.8.3"
  }
 },
 "nbformat": 4,
 "nbformat_minor": 4
}
